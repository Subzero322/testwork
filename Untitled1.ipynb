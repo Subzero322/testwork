{
 "cells": [
  {
   "cell_type": "markdown",
   "id": "1e069f7c-ee1c-4c8f-94e6-11588a42c12a",
   "metadata": {},
   "source": [
    "# 0. Вступление"
   ]
  },
  {
   "cell_type": "markdown",
   "id": "340796e7-c668-47d1-a6f6-ef10bbcdaff8",
   "metadata": {},
   "source": [
    "Тестовое задание. Ориентировочное время выполнения 2 часа.\n",
    "Классификация изображений на датасете MNIST\n",
    "Цель: Разработать и обучить простую нейронную сеть для классификации рукописных цифр на датасете MNIST (https://huggingface.co/datasets/ylecun/mnist).\n",
    "Требования:\n",
    "Обеспечение точности модели не менее 80% на тестовом наборе данных.\n",
    "Предоставление краткого отчета с описанием архитектуры модели, процесса обучения и результатов (с расшифровкой метрик).\n",
    "Можно использовать готовые архитектуры."
   ]
  },
  {
   "cell_type": "markdown",
   "id": "6b13359a-4cc6-47cd-936a-84810e32e322",
   "metadata": {},
   "source": [
    "# 1. Импорт библиотек:"
   ]
  },
  {
   "cell_type": "code",
   "execution_count": 1,
   "id": "d29f7809-9c0d-435e-be35-a31869778596",
   "metadata": {},
   "outputs": [],
   "source": [
    "import torch\n",
    "import torch.nn as nn\n",
    "import torch.optim as optim\n",
    "from torch.utils.data import DataLoader, Dataset\n",
    "from torchvision import transforms\n",
    "from datasets import load_dataset\n",
    "from PIL import Image"
   ]
  },
  {
   "cell_type": "markdown",
   "id": "24df5237-7258-489d-a497-ee215e54d17d",
   "metadata": {},
   "source": [
    "# 2. Загрузка датасета MNIST:"
   ]
  },
  {
   "cell_type": "code",
   "execution_count": 2,
   "id": "91ba1c86-8a3e-459a-b4bb-d43224b78865",
   "metadata": {},
   "outputs": [],
   "source": [
    "# Загружаем датасет MNIST\n",
    "dataset = load_dataset(\"ylecun/mnist\")"
   ]
  },
  {
   "cell_type": "markdown",
   "id": "30a75078-170e-4c8e-b74a-b6a9d935a455",
   "metadata": {},
   "source": [
    "# 3. Определение преобразований для подготовки данных:"
   ]
  },
  {
   "cell_type": "code",
   "execution_count": 3,
   "id": "4d9ed51d-7d18-4503-a993-6b2b4dadf682",
   "metadata": {},
   "outputs": [],
   "source": [
    "# Преобразования для подготовки данных\n",
    "transform = transforms.Compose([\n",
    "    transforms.ToTensor(),  # Преобразуем изображения в тензоры\n",
    "    transforms.Normalize((0.5,), (0.5,))  # Нормализуем значения пикселей (0-1)\n",
    "])"
   ]
  },
  {
   "cell_type": "markdown",
   "id": "a259d8cc-6d73-4081-b9a1-1824499ad8d6",
   "metadata": {},
   "source": [
    " - transforms.ToTensor() — преобразует изображение в тензор, делая его значениями от 0 до 1 (изначально изображения имеют значения от 0 до 255).\n",
    " - transforms.Normalize((0.5,), (0.5,)) — нормализует изображение, приводя его к диапазону от -1 до 1, применяя нормализацию с заданным средним и стандартным отклонением."
   ]
  },
  {
   "cell_type": "markdown",
   "id": "c9ccad8d-96bf-428a-aa44-970673843c19",
   "metadata": {},
   "source": [
    "# 4. Создание кастомного датасета:"
   ]
  },
  {
   "cell_type": "code",
   "execution_count": 4,
   "id": "3ff845a4-e18b-44cd-bef8-a089fb4a8791",
   "metadata": {},
   "outputs": [],
   "source": [
    "# Кастомный Dataset для использования с DataLoader\n",
    "class MNISTDataset(Dataset):\n",
    "    def __init__(self, dataset, transform=None):\n",
    "        self.dataset = dataset\n",
    "        self.transform = transform\n",
    "\n",
    "    def __len__(self):\n",
    "        return len(self.dataset)\n",
    "\n",
    "    def __getitem__(self, idx):\n",
    "        image = self.dataset[idx]['image']\n",
    "        label = self.dataset[idx]['label']\n",
    "        \n",
    "        # Преобразуем изображение с помощью трансформаций\n",
    "        if self.transform:\n",
    "            image = self.transform(image)\n",
    "\n",
    "        return image, label"
   ]
  },
  {
   "cell_type": "markdown",
   "id": "4c44dc7d-52f9-4ff0-a04f-6c36bd72656c",
   "metadata": {},
   "source": [
    " - MNISTDataset — класс, наследующий Dataset, который позволяет работать с данными в PyTorch.\n",
    " - __init__ передаем датасет.\n",
    " - __len__ — возвращает количество элементов в датасете.\n",
    " - __getitem__ — загружает изображение и его метку, а затем применяет к изображению трансформации."
   ]
  },
  {
   "cell_type": "markdown",
   "id": "bda84e9b-873b-4f50-b9bf-32865ecf56c9",
   "metadata": {},
   "source": [
    "# 5. Применение преобразований и создание датасетов:"
   ]
  },
  {
   "cell_type": "code",
   "execution_count": 5,
   "id": "93238983-4ff1-4abe-8130-cead55e0b0bd",
   "metadata": {},
   "outputs": [],
   "source": [
    "# Применяем преобразования\n",
    "train_dataset = MNISTDataset(dataset['train'], transform)\n",
    "test_dataset = MNISTDataset(dataset['test'], transform)"
   ]
  },
  {
   "cell_type": "markdown",
   "id": "d1b131ce-27d3-4563-864f-55f408086406",
   "metadata": {},
   "source": [
    " - Применяем преобразования к обучающему и тестовому датасетам.\n",
    " - train_dataset и test_dataset теперь содержат изображения, преобразованные в тензоры и нормализованные."
   ]
  },
  {
   "cell_type": "markdown",
   "id": "0000441c-117d-444e-91e5-0851ab59df15",
   "metadata": {},
   "source": [
    "# 6. Создание DataLoader для тренировки и теста:"
   ]
  },
  {
   "cell_type": "code",
   "execution_count": 6,
   "id": "b3c6bb52-d52f-4909-b277-a7f4de10045f",
   "metadata": {},
   "outputs": [],
   "source": [
    "train_loader = DataLoader(train_dataset, batch_size=32, shuffle=True)\n",
    "test_loader = DataLoader(test_dataset, batch_size=32)"
   ]
  },
  {
   "cell_type": "markdown",
   "id": "88d7410d-d65a-45fc-b8e9-1aa1c6469204",
   "metadata": {},
   "source": [
    "- Создаем DataLoader, который будет загружать данные из train_dataset и test_dataset.\n",
    "- Параметр batch_size=32 определяет размер батча.\n",
    "- shuffle=True для обучения, чтобы данные перемешивались перед каждой эпохой."
   ]
  },
  {
   "cell_type": "markdown",
   "id": "2b5c3dc6-1a31-4cb6-ae8d-d0fc9213cd88",
   "metadata": {},
   "source": [
    "# 7. Определение модель (MLP):"
   ]
  },
  {
   "cell_type": "code",
   "execution_count": 7,
   "id": "be6d9929-e3be-48d4-bd6f-3224339d8a6e",
   "metadata": {},
   "outputs": [],
   "source": [
    "# Определяем модель\n",
    "class MLPModel(nn.Module):\n",
    "    def __init__(self):\n",
    "        super(MLPModel, self).__init__()\n",
    "        self.flatten = nn.Flatten()\n",
    "        self.fc1 = nn.Linear(28 * 28, 128)  # Первый скрытый слой (MNIST изображения 28x28)\n",
    "        self.fc2 = nn.Linear(128, 64)\n",
    "        self.fc3 = nn.Linear(64, 10)  # 10 классов для цифр от 0 до 9\n",
    "\n",
    "    def forward(self, x):\n",
    "        x = self.flatten(x)\n",
    "        x = torch.relu(self.fc1(x))\n",
    "        x = torch.relu(self.fc2(x))\n",
    "        x = self.fc3(x)\n",
    "        return x"
   ]
  },
  {
   "cell_type": "markdown",
   "id": "4278ba53-8e8a-4f5e-9e96-c56647510a5e",
   "metadata": {},
   "source": [
    "- MLPModel — простая полносвязная нейронная сеть (MLP — Multilayer Perceptron).\n",
    "- Сеть состоит из:\n",
    "    - Flatten — преобразует изображение размером 28x28 в одномерный вектор.\n",
    "    - fc1, fc2, fc3 — полносвязные слои.\n",
    "    - ReLU — активационная функция, применяется после каждого скрытого слоя.\n",
    "- На выходе fc3 — 10 нейронов, соответствующих 10 классам (цифры от 0 до 9)."
   ]
  },
  {
   "cell_type": "markdown",
   "id": "0eba26ce-c85d-4d2f-a1bd-6c8edb5fd2d4",
   "metadata": {},
   "source": [
    "# 8. Создание экземпляра модели и настройка:"
   ]
  },
  {
   "cell_type": "code",
   "execution_count": 8,
   "id": "5c015127-f48d-4462-9159-0770dfe29cee",
   "metadata": {},
   "outputs": [
    {
     "data": {
      "text/plain": [
       "MLPModel(\n",
       "  (flatten): Flatten(start_dim=1, end_dim=-1)\n",
       "  (fc1): Linear(in_features=784, out_features=128, bias=True)\n",
       "  (fc2): Linear(in_features=128, out_features=64, bias=True)\n",
       "  (fc3): Linear(in_features=64, out_features=10, bias=True)\n",
       ")"
      ]
     },
     "execution_count": 8,
     "metadata": {},
     "output_type": "execute_result"
    }
   ],
   "source": [
    "# Создаем экземпляр модели\n",
    "model = MLPModel()\n",
    "\n",
    "# Определяем функцию потерь и оптимизатор\n",
    "loss_fn = nn.CrossEntropyLoss()\n",
    "optimizer = optim.Adam(model.parameters(), lr=0.001)\n",
    "\n",
    "device = torch.device(\"cuda\" if torch.cuda.is_available() else \"cpu\")\n",
    "model.to(device)"
   ]
  },
  {
   "cell_type": "markdown",
   "id": "f20f0117-28cc-4ce4-9da6-5eaf8812d663",
   "metadata": {},
   "source": [
    "- model — создаем экземпляр модели.\n",
    "- loss_fn — функция потерь: CrossEntropyLoss для многоклассовой классификации.\n",
    "- optimizer — оптимизатор Adam с шагом обучения 0.001.\n",
    "- device — определяем устройство (GPU, если доступен, иначе CPU) для ускорения вычислений."
   ]
  },
  {
   "cell_type": "markdown",
   "id": "0e75d452-7b4d-40c3-b624-83c85c2d9853",
   "metadata": {},
   "source": [
    "# 9. Обучение модели:"
   ]
  },
  {
   "cell_type": "code",
   "execution_count": 9,
   "id": "016d1c58-2e89-4584-bf35-c136bb2c4564",
   "metadata": {},
   "outputs": [
    {
     "name": "stdout",
     "output_type": "stream",
     "text": [
      "Эпоха 1/10, Средняя потеря: 0.3518\n",
      "Эпоха 2/10, Средняя потеря: 0.1715\n",
      "Эпоха 3/10, Средняя потеря: 0.1295\n",
      "Эпоха 4/10, Средняя потеря: 0.1101\n",
      "Эпоха 5/10, Средняя потеря: 0.0965\n",
      "Эпоха 6/10, Средняя потеря: 0.0829\n",
      "Эпоха 7/10, Средняя потеря: 0.0758\n",
      "Эпоха 8/10, Средняя потеря: 0.0686\n",
      "Эпоха 9/10, Средняя потеря: 0.0640\n",
      "Эпоха 10/10, Средняя потеря: 0.0598\n"
     ]
    }
   ],
   "source": [
    "num_epochs = 10\n",
    "for epoch in range(num_epochs):\n",
    "    model.train()  # Включаем режим обучения\n",
    "    total_loss = 0\n",
    "    for batch in train_loader:\n",
    "        images, labels = batch\n",
    "        images, labels = images.to(device), labels.to(device)\n",
    "\n",
    "        # Прямой проход\n",
    "        outputs = model(images)\n",
    "        loss = loss_fn(outputs, labels)\n",
    "\n",
    "        # Обратный проход\n",
    "        optimizer.zero_grad()\n",
    "        loss.backward()\n",
    "        optimizer.step()\n",
    "\n",
    "        total_loss += loss.item()\n",
    "\n",
    "    avg_loss = total_loss / len(train_loader)\n",
    "    print(f\"Эпоха {epoch + 1}/{num_epochs}, Средняя потеря: {avg_loss:.4f}\")"
   ]
  },
  {
   "cell_type": "markdown",
   "id": "5a8af3b2-4cc0-47ce-9ea8-a23fb6e4e3e7",
   "metadata": {},
   "source": [
    "- Обучение модели на протяжении 5 эпох.\n",
    "- В каждой эпохе:\n",
    "    - Переходим в режим обучения с помощью model.train().\n",
    "    - Для каждого батча из train_loader:\n",
    "        - Переносим изображения и метки на выбранное устройство (в моем случае CPU).\n",
    "        - Выполняем инференс.\n",
    "        - Вычисляем потери с помощью функции потерь.\n",
    "        - Выполняем Backpropagation и обновляем параметры модели.\n",
    "- Выводим среднюю потерю для каждой эпохи."
   ]
  },
  {
   "cell_type": "markdown",
   "id": "49dd790c-04cb-46a1-b14c-35caf6813e3e",
   "metadata": {},
   "source": [
    "# 10. Оценка модели на тестовом наборе:"
   ]
  },
  {
   "cell_type": "code",
   "execution_count": 10,
   "id": "ac71fcbf-3ae9-49d3-b391-dea1b2939c9c",
   "metadata": {},
   "outputs": [
    {
     "name": "stdout",
     "output_type": "stream",
     "text": [
      "Точность на тестовом наборе: 97.16%\n"
     ]
    }
   ],
   "source": [
    "model.eval()  # Включаем режим оценки\n",
    "correct = 0\n",
    "total = 0\n",
    "with torch.no_grad():\n",
    "    for batch in test_loader:\n",
    "        images, labels = batch\n",
    "        images, labels = images.to(device), labels.to(device)\n",
    "\n",
    "        # Прогнозы\n",
    "        outputs = model(images)\n",
    "        _, predicted = torch.max(outputs, 1)\n",
    "\n",
    "        total += labels.size(0)\n",
    "        correct += (predicted == labels).sum().item()\n",
    "\n",
    "accuracy = correct / total * 100\n",
    "print(f\"Точность на тестовом наборе: {accuracy:.2f}%\")\n"
   ]
  },
  {
   "cell_type": "markdown",
   "id": "c38d3f0b-2016-4d8a-82cf-ad56fd90a6e1",
   "metadata": {},
   "source": [
    "- Переключаем модель в оценочный режим с помощью model.eval().\n",
    "- torch.no_grad() — отключаем вычисление градиентов, так как они не нужны для оценки.\n",
    "- Для каждого батча из test_loader:\n",
    "    - Получаем прогнозы от модели.\n",
    "    - Сравниваем предсказанные метки с реальными и подсчитываем количество правильных предсказаний.\n",
    "- Вычисляем точность модели на тестовой выборке."
   ]
  }
 ],
 "metadata": {
  "kernelspec": {
   "display_name": "Python 3 (ipykernel)",
   "language": "python",
   "name": "python3"
  },
  "language_info": {
   "codemirror_mode": {
    "name": "ipython",
    "version": 3
   },
   "file_extension": ".py",
   "mimetype": "text/x-python",
   "name": "python",
   "nbconvert_exporter": "python",
   "pygments_lexer": "ipython3",
   "version": "3.12.7"
  }
 },
 "nbformat": 4,
 "nbformat_minor": 5
}
